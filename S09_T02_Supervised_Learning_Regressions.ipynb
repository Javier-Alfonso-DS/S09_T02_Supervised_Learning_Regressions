{
 "cells": [
  {
   "cell_type": "markdown",
   "metadata": {},
   "source": [
    "# Description   \n",
    "\n",
    "Let's practice and become familiar with regression.\n",
    "\n",
    "Level 1\n",
    "\n",
    "- Exercise 1\n",
    "\n",
    "Create at least three different regression models to try to predict as well as possible the flight delay (ArrDelay) of DelayedFlights.csv.\n",
    "\n",
    "- Exercise 2\n",
    "\n",
    "Compare them on the basis of MSE and R2 .\n",
    "\n",
    "- Exercise 3\n",
    "\n",
    "Train them using the different parameters they allow.\n",
    "\n",
    "- Exercise 4\n",
    "\n",
    "Compare their performance using the test/train approach or using all data (internal validation).\n",
    "\n",
    "Level 2\n",
    "\n",
    "- Exercise 5\n",
    "\n",
    "Perform some variable engineering process to improve your prediction.\n",
    "\n",
    "Level 3\n",
    "\n",
    "- Exercise 6\n",
    "\n",
    "Do not use the DepDelay variable when making predictions."
   ]
  },
  {
   "cell_type": "markdown",
   "metadata": {},
   "source": [
    "# Level 1  \n",
    "\n",
    "## - Exercise 1\n",
    "\n",
    "Create at least three different regression models to try to predict as well as possible the flight delay (ArrDelay) of DelayedFlights.csv."
   ]
  },
  {
   "cell_type": "code",
   "execution_count": 2,
   "metadata": {},
   "outputs": [],
   "source": [
    "# Import libraries\n",
    "import pandas as pd"
   ]
  },
  {
   "cell_type": "code",
   "execution_count": 5,
   "metadata": {},
   "outputs": [],
   "source": [
    "# Import cleaned and sampled train an test dataset from previous Task.\n",
    "df_train = pd.read_csv('..\\data\\DelayedFlights_train.csv')\n",
    "df_test  = pd.read_csv('..\\data\\DelayedFlights_test.csv')"
   ]
  },
  {
   "cell_type": "code",
   "execution_count": null,
   "metadata": {},
   "outputs": [],
   "source": []
  }
 ],
 "metadata": {
  "interpreter": {
   "hash": "494e690407c5c7c9b2fbc0a1227ada2e3d821eefed538763ba3356ad470e06f1"
  },
  "kernelspec": {
   "display_name": "Python 3.9.7 ('base')",
   "language": "python",
   "name": "python3"
  },
  "language_info": {
   "codemirror_mode": {
    "name": "ipython",
    "version": 3
   },
   "file_extension": ".py",
   "mimetype": "text/x-python",
   "name": "python",
   "nbconvert_exporter": "python",
   "pygments_lexer": "ipython3",
   "version": "3.9.7"
  },
  "orig_nbformat": 4
 },
 "nbformat": 4,
 "nbformat_minor": 2
}
