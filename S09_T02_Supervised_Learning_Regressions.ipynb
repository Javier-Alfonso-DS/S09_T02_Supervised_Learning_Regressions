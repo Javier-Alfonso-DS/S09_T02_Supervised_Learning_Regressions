{
 "cells": [
  {
   "cell_type": "markdown",
   "metadata": {},
   "source": [
    "# Description   \n",
    "\n",
    "Let's practice and become familiar with regression.\n",
    "\n",
    "Level 1\n",
    "\n",
    "- Exercise 1\n",
    "\n",
    "Create at least three different regression models to try to predict as well as possible the flight delay (ArrDelay) of DelayedFlights.csv.\n",
    "\n",
    "- Exercise 2\n",
    "\n",
    "Compare them on the basis of MSE and R2 .\n",
    "\n",
    "- Exercise 3\n",
    "\n",
    "Train them using the different parameters they allow.\n",
    "\n",
    "- Exercise 4\n",
    "\n",
    "Compare their performance using the test/train approach or using all data (internal validation).\n",
    "\n",
    "Level 2\n",
    "\n",
    "- Exercise 5\n",
    "\n",
    "Perform some variable engineering process to improve your prediction.\n",
    "\n",
    "Level 3\n",
    "\n",
    "- Exercise 6\n",
    "\n",
    "Do not use the DepDelay variable when making predictions."
   ]
  },
  {
   "cell_type": "markdown",
   "metadata": {},
   "source": [
    "# Level 1  \n",
    "\n",
    "## - Exercise 1\n",
    "\n",
    "Create at least three different regression models to try to predict as well as possible the flight delay (ArrDelay) of DelayedFlights.csv."
   ]
  },
  {
   "cell_type": "code",
   "execution_count": 8,
   "metadata": {},
   "outputs": [],
   "source": [
    "# Import libraries\n",
    "import pandas as pd\n",
    "import numpy as np\n",
    "from sklearn.linear_model import LinearRegression"
   ]
  },
  {
   "cell_type": "code",
   "execution_count": 9,
   "metadata": {},
   "outputs": [],
   "source": [
    "# settings to display all columns (default is 20, now is None (all))\n",
    "pd.set_option(\"display.max_columns\", None)"
   ]
  },
  {
   "cell_type": "code",
   "execution_count": 10,
   "metadata": {},
   "outputs": [],
   "source": [
    "# Import cleaned and sampled train an test dataset from previous Task.\n",
    "df_train = pd.read_csv('..\\data\\DelayedFlights_train.csv')\n",
    "df_test  = pd.read_csv('..\\data\\DelayedFlights_test.csv')"
   ]
  },
  {
   "cell_type": "code",
   "execution_count": 11,
   "metadata": {},
   "outputs": [
    {
     "data": {
      "text/html": [
       "<div>\n",
       "<style scoped>\n",
       "    .dataframe tbody tr th:only-of-type {\n",
       "        vertical-align: middle;\n",
       "    }\n",
       "\n",
       "    .dataframe tbody tr th {\n",
       "        vertical-align: top;\n",
       "    }\n",
       "\n",
       "    .dataframe thead th {\n",
       "        text-align: right;\n",
       "    }\n",
       "</style>\n",
       "<table border=\"1\" class=\"dataframe\">\n",
       "  <thead>\n",
       "    <tr style=\"text-align: right;\">\n",
       "      <th></th>\n",
       "      <th>Unnamed: 0</th>\n",
       "      <th>DayOfWeek</th>\n",
       "      <th>DepTime</th>\n",
       "      <th>CRSDepTime</th>\n",
       "      <th>ArrTime</th>\n",
       "      <th>CRSArrTime</th>\n",
       "      <th>ActualElapsedTime</th>\n",
       "      <th>CRSElapsedTime</th>\n",
       "      <th>AirTime</th>\n",
       "      <th>ArrDelay</th>\n",
       "      <th>DepDelay</th>\n",
       "      <th>Distance</th>\n",
       "      <th>TaxiIn</th>\n",
       "      <th>TaxiOut</th>\n",
       "      <th>Date</th>\n",
       "      <th>UniqueCarrier_9E</th>\n",
       "      <th>UniqueCarrier_AA</th>\n",
       "      <th>UniqueCarrier_AQ</th>\n",
       "      <th>UniqueCarrier_AS</th>\n",
       "      <th>UniqueCarrier_B6</th>\n",
       "      <th>UniqueCarrier_CO</th>\n",
       "      <th>UniqueCarrier_DL</th>\n",
       "      <th>UniqueCarrier_EV</th>\n",
       "      <th>UniqueCarrier_F9</th>\n",
       "      <th>UniqueCarrier_FL</th>\n",
       "      <th>UniqueCarrier_HA</th>\n",
       "      <th>UniqueCarrier_MQ</th>\n",
       "      <th>UniqueCarrier_NW</th>\n",
       "      <th>UniqueCarrier_OH</th>\n",
       "      <th>UniqueCarrier_OO</th>\n",
       "      <th>UniqueCarrier_UA</th>\n",
       "      <th>UniqueCarrier_US</th>\n",
       "      <th>UniqueCarrier_WN</th>\n",
       "      <th>UniqueCarrier_XE</th>\n",
       "      <th>UniqueCarrier_YV</th>\n",
       "    </tr>\n",
       "  </thead>\n",
       "  <tbody>\n",
       "    <tr>\n",
       "      <th>0</th>\n",
       "      <td>1212168</td>\n",
       "      <td>2</td>\n",
       "      <td>1.396108</td>\n",
       "      <td>1.553827</td>\n",
       "      <td>1.265258</td>\n",
       "      <td>1.312513</td>\n",
       "      <td>-0.781188</td>\n",
       "      <td>-0.790736</td>\n",
       "      <td>-0.818653</td>\n",
       "      <td>-0.423085</td>\n",
       "      <td>-0.453348</td>\n",
       "      <td>-0.683070</td>\n",
       "      <td>-0.341142</td>\n",
       "      <td>0.130433</td>\n",
       "      <td>2008-07-29</td>\n",
       "      <td>0</td>\n",
       "      <td>0</td>\n",
       "      <td>0</td>\n",
       "      <td>0</td>\n",
       "      <td>0</td>\n",
       "      <td>0</td>\n",
       "      <td>0</td>\n",
       "      <td>0</td>\n",
       "      <td>0</td>\n",
       "      <td>0</td>\n",
       "      <td>0</td>\n",
       "      <td>0</td>\n",
       "      <td>1</td>\n",
       "      <td>0</td>\n",
       "      <td>0</td>\n",
       "      <td>0</td>\n",
       "      <td>0</td>\n",
       "      <td>0</td>\n",
       "      <td>0</td>\n",
       "      <td>0</td>\n",
       "    </tr>\n",
       "    <tr>\n",
       "      <th>1</th>\n",
       "      <td>1623304</td>\n",
       "      <td>2</td>\n",
       "      <td>-0.699602</td>\n",
       "      <td>-0.997079</td>\n",
       "      <td>-0.540408</td>\n",
       "      <td>-0.920752</td>\n",
       "      <td>-0.905020</td>\n",
       "      <td>-0.832512</td>\n",
       "      <td>-0.804233</td>\n",
       "      <td>0.577369</td>\n",
       "      <td>0.739595</td>\n",
       "      <td>-0.783172</td>\n",
       "      <td>-0.154948</td>\n",
       "      <td>-0.654312</td>\n",
       "      <td>2008-10-07</td>\n",
       "      <td>0</td>\n",
       "      <td>0</td>\n",
       "      <td>0</td>\n",
       "      <td>0</td>\n",
       "      <td>0</td>\n",
       "      <td>1</td>\n",
       "      <td>0</td>\n",
       "      <td>0</td>\n",
       "      <td>0</td>\n",
       "      <td>0</td>\n",
       "      <td>0</td>\n",
       "      <td>0</td>\n",
       "      <td>0</td>\n",
       "      <td>0</td>\n",
       "      <td>0</td>\n",
       "      <td>0</td>\n",
       "      <td>0</td>\n",
       "      <td>0</td>\n",
       "      <td>0</td>\n",
       "      <td>0</td>\n",
       "    </tr>\n",
       "    <tr>\n",
       "      <th>2</th>\n",
       "      <td>914605</td>\n",
       "      <td>4</td>\n",
       "      <td>0.049503</td>\n",
       "      <td>0.125887</td>\n",
       "      <td>0.575125</td>\n",
       "      <td>0.600955</td>\n",
       "      <td>0.402102</td>\n",
       "      <td>0.490397</td>\n",
       "      <td>0.551251</td>\n",
       "      <td>-0.536344</td>\n",
       "      <td>-0.453348</td>\n",
       "      <td>0.708000</td>\n",
       "      <td>-0.713531</td>\n",
       "      <td>-0.368950</td>\n",
       "      <td>2008-06-26</td>\n",
       "      <td>0</td>\n",
       "      <td>0</td>\n",
       "      <td>0</td>\n",
       "      <td>0</td>\n",
       "      <td>0</td>\n",
       "      <td>0</td>\n",
       "      <td>0</td>\n",
       "      <td>0</td>\n",
       "      <td>0</td>\n",
       "      <td>0</td>\n",
       "      <td>0</td>\n",
       "      <td>0</td>\n",
       "      <td>0</td>\n",
       "      <td>0</td>\n",
       "      <td>0</td>\n",
       "      <td>0</td>\n",
       "      <td>0</td>\n",
       "      <td>1</td>\n",
       "      <td>0</td>\n",
       "      <td>0</td>\n",
       "    </tr>\n",
       "    <tr>\n",
       "      <th>3</th>\n",
       "      <td>642853</td>\n",
       "      <td>4</td>\n",
       "      <td>-0.445441</td>\n",
       "      <td>-0.394224</td>\n",
       "      <td>0.222755</td>\n",
       "      <td>0.198024</td>\n",
       "      <td>0.801118</td>\n",
       "      <td>0.936008</td>\n",
       "      <td>0.868492</td>\n",
       "      <td>-0.630727</td>\n",
       "      <td>-0.493787</td>\n",
       "      <td>0.918559</td>\n",
       "      <td>-0.341142</td>\n",
       "      <td>-0.012248</td>\n",
       "      <td>2008-04-10</td>\n",
       "      <td>0</td>\n",
       "      <td>0</td>\n",
       "      <td>0</td>\n",
       "      <td>0</td>\n",
       "      <td>0</td>\n",
       "      <td>0</td>\n",
       "      <td>0</td>\n",
       "      <td>0</td>\n",
       "      <td>0</td>\n",
       "      <td>0</td>\n",
       "      <td>0</td>\n",
       "      <td>0</td>\n",
       "      <td>0</td>\n",
       "      <td>0</td>\n",
       "      <td>0</td>\n",
       "      <td>0</td>\n",
       "      <td>1</td>\n",
       "      <td>0</td>\n",
       "      <td>0</td>\n",
       "      <td>0</td>\n",
       "    </tr>\n",
       "    <tr>\n",
       "      <th>4</th>\n",
       "      <td>112693</td>\n",
       "      <td>5</td>\n",
       "      <td>0.004914</td>\n",
       "      <td>-0.082158</td>\n",
       "      <td>0.184414</td>\n",
       "      <td>-0.012015</td>\n",
       "      <td>-0.340894</td>\n",
       "      <td>-0.317274</td>\n",
       "      <td>-0.227431</td>\n",
       "      <td>0.067703</td>\n",
       "      <td>0.112794</td>\n",
       "      <td>-0.334439</td>\n",
       "      <td>0.217440</td>\n",
       "      <td>-0.725652</td>\n",
       "      <td>2008-01-11</td>\n",
       "      <td>0</td>\n",
       "      <td>0</td>\n",
       "      <td>0</td>\n",
       "      <td>0</td>\n",
       "      <td>0</td>\n",
       "      <td>0</td>\n",
       "      <td>0</td>\n",
       "      <td>0</td>\n",
       "      <td>0</td>\n",
       "      <td>1</td>\n",
       "      <td>0</td>\n",
       "      <td>0</td>\n",
       "      <td>0</td>\n",
       "      <td>0</td>\n",
       "      <td>0</td>\n",
       "      <td>0</td>\n",
       "      <td>0</td>\n",
       "      <td>0</td>\n",
       "      <td>0</td>\n",
       "      <td>0</td>\n",
       "    </tr>\n",
       "  </tbody>\n",
       "</table>\n",
       "</div>"
      ],
      "text/plain": [
       "   Unnamed: 0  DayOfWeek   DepTime  CRSDepTime   ArrTime  CRSArrTime  \\\n",
       "0     1212168          2  1.396108    1.553827  1.265258    1.312513   \n",
       "1     1623304          2 -0.699602   -0.997079 -0.540408   -0.920752   \n",
       "2      914605          4  0.049503    0.125887  0.575125    0.600955   \n",
       "3      642853          4 -0.445441   -0.394224  0.222755    0.198024   \n",
       "4      112693          5  0.004914   -0.082158  0.184414   -0.012015   \n",
       "\n",
       "   ActualElapsedTime  CRSElapsedTime   AirTime  ArrDelay  DepDelay  Distance  \\\n",
       "0          -0.781188       -0.790736 -0.818653 -0.423085 -0.453348 -0.683070   \n",
       "1          -0.905020       -0.832512 -0.804233  0.577369  0.739595 -0.783172   \n",
       "2           0.402102        0.490397  0.551251 -0.536344 -0.453348  0.708000   \n",
       "3           0.801118        0.936008  0.868492 -0.630727 -0.493787  0.918559   \n",
       "4          -0.340894       -0.317274 -0.227431  0.067703  0.112794 -0.334439   \n",
       "\n",
       "     TaxiIn   TaxiOut        Date  UniqueCarrier_9E  UniqueCarrier_AA  \\\n",
       "0 -0.341142  0.130433  2008-07-29                 0                 0   \n",
       "1 -0.154948 -0.654312  2008-10-07                 0                 0   \n",
       "2 -0.713531 -0.368950  2008-06-26                 0                 0   \n",
       "3 -0.341142 -0.012248  2008-04-10                 0                 0   \n",
       "4  0.217440 -0.725652  2008-01-11                 0                 0   \n",
       "\n",
       "   UniqueCarrier_AQ  UniqueCarrier_AS  UniqueCarrier_B6  UniqueCarrier_CO  \\\n",
       "0                 0                 0                 0                 0   \n",
       "1                 0                 0                 0                 1   \n",
       "2                 0                 0                 0                 0   \n",
       "3                 0                 0                 0                 0   \n",
       "4                 0                 0                 0                 0   \n",
       "\n",
       "   UniqueCarrier_DL  UniqueCarrier_EV  UniqueCarrier_F9  UniqueCarrier_FL  \\\n",
       "0                 0                 0                 0                 0   \n",
       "1                 0                 0                 0                 0   \n",
       "2                 0                 0                 0                 0   \n",
       "3                 0                 0                 0                 0   \n",
       "4                 0                 0                 0                 1   \n",
       "\n",
       "   UniqueCarrier_HA  UniqueCarrier_MQ  UniqueCarrier_NW  UniqueCarrier_OH  \\\n",
       "0                 0                 0                 1                 0   \n",
       "1                 0                 0                 0                 0   \n",
       "2                 0                 0                 0                 0   \n",
       "3                 0                 0                 0                 0   \n",
       "4                 0                 0                 0                 0   \n",
       "\n",
       "   UniqueCarrier_OO  UniqueCarrier_UA  UniqueCarrier_US  UniqueCarrier_WN  \\\n",
       "0                 0                 0                 0                 0   \n",
       "1                 0                 0                 0                 0   \n",
       "2                 0                 0                 0                 1   \n",
       "3                 0                 0                 1                 0   \n",
       "4                 0                 0                 0                 0   \n",
       "\n",
       "   UniqueCarrier_XE  UniqueCarrier_YV  \n",
       "0                 0                 0  \n",
       "1                 0                 0  \n",
       "2                 0                 0  \n",
       "3                 0                 0  \n",
       "4                 0                 0  "
      ]
     },
     "execution_count": 11,
     "metadata": {},
     "output_type": "execute_result"
    }
   ],
   "source": [
    "# Let's explore the dataset\n",
    "df_train.head()"
   ]
  },
  {
   "cell_type": "code",
   "execution_count": 12,
   "metadata": {},
   "outputs": [],
   "source": [
    "# Let's delete the first column\n",
    "df_train = df_train.drop(columns='Unnamed: 0')"
   ]
  },
  {
   "cell_type": "markdown",
   "metadata": {},
   "source": [
    "## 1st model: Linear regression between DepDelay and ArrDelay."
   ]
  },
  {
   "cell_type": "code",
   "execution_count": 13,
   "metadata": {},
   "outputs": [
    {
     "data": {
      "text/plain": [
       "pandas.core.series.Series"
      ]
     },
     "execution_count": 13,
     "metadata": {},
     "output_type": "execute_result"
    }
   ],
   "source": [
    "# Our Y or Target is ArrDelay:\n",
    "y = df_train.ArrDelay\n",
    "type(y)"
   ]
  },
  {
   "cell_type": "code",
   "execution_count": 14,
   "metadata": {},
   "outputs": [],
   "source": [
    "# Our X easily could be DepDelay (as logical)\n",
    "x = df_train.DepDelay"
   ]
  },
  {
   "cell_type": "code",
   "execution_count": 15,
   "metadata": {},
   "outputs": [],
   "source": [
    "# Fit the model ( calculate b0 and b1 for the model y = b0 + b1x )\n",
    "model = LinearRegression().fit(x.array.reshape(-1, 1),y.array)"
   ]
  },
  {
   "cell_type": "code",
   "execution_count": 16,
   "metadata": {},
   "outputs": [
    {
     "name": "stdout",
     "output_type": "stream",
     "text": [
      "coefficient of determination: 0.895\n"
     ]
    }
   ],
   "source": [
    "# Calculate R2 to see the accuracy of the model.\n",
    "r_sq = model.score(x.array.reshape(-1, 1),y.array)\n",
    "print('coefficient of determination: %.3f' %r_sq)"
   ]
  },
  {
   "cell_type": "markdown",
   "metadata": {},
   "source": [
    "### Observation 1  \n",
    "As we expected, the accuracy of the model is very high (0.895).  \n",
    "We don't think that this would lead to an overfitting problem.  \n",
    "Is just that the dependency between Arrival Delay and Departure Delay is quite obvious."
   ]
  },
  {
   "cell_type": "markdown",
   "metadata": {},
   "source": [
    "## 2nd model: Multiple Linear Regression"
   ]
  },
  {
   "cell_type": "code",
   "execution_count": 17,
   "metadata": {},
   "outputs": [
    {
     "data": {
      "text/plain": [
       "pandas.core.arrays.numpy_.PandasArray"
      ]
     },
     "execution_count": 17,
     "metadata": {},
     "output_type": "execute_result"
    }
   ],
   "source": [
    "# Our Y or Target is ArrDelay:\n",
    "y = df_train.ArrDelay\n",
    "y = y.array # Convert pandas series to numpy array\n",
    "type(y)"
   ]
  },
  {
   "cell_type": "code",
   "execution_count": 18,
   "metadata": {},
   "outputs": [
    {
     "data": {
      "text/plain": [
       "numpy.ndarray"
      ]
     },
     "execution_count": 18,
     "metadata": {},
     "output_type": "execute_result"
    }
   ],
   "source": [
    "# Our X now is going to be all the columns in df_train except ArrDelay and Date (also the OHE of Airline)\n",
    "x = df_train.drop(columns=[\"ArrDelay\",\"Date\"])\n",
    "feature_list = list(x.columns) # Saving feature names for later use\n",
    "x = x.to_numpy() # Convert dataframe to array\n",
    "type(x)"
   ]
  },
  {
   "cell_type": "code",
   "execution_count": 19,
   "metadata": {},
   "outputs": [],
   "source": [
    "# Fit the model ( calculate b0 and b1 for the model y = b0 + b1x )\n",
    "model = LinearRegression().fit(x,y)"
   ]
  },
  {
   "cell_type": "code",
   "execution_count": 20,
   "metadata": {},
   "outputs": [
    {
     "name": "stdout",
     "output_type": "stream",
     "text": [
      "coefficient of determination: 1.000\n"
     ]
    }
   ],
   "source": [
    "# Calculate R2 to see the accuracy of the model.\n",
    "r_sq = model.score(x,y)\n",
    "print('coefficient of determination: %.3f' %r_sq)"
   ]
  },
  {
   "cell_type": "markdown",
   "metadata": {},
   "source": [
    "### Observation 2  \n",
    "The accuracy of the model is the maximum (1.0).  \n",
    "That is a perfect fit, meaning that all the data is explained with the model. Like the target is a dependent variable of the attributes.  \n",
    "That's normal, because is our $R^2$ with the train set. Later, we will test it against the test set and $R^2$ will not be a perfect fit."
   ]
  },
  {
   "cell_type": "markdown",
   "metadata": {},
   "source": [
    "## 3rd model: Random Forest"
   ]
  },
  {
   "cell_type": "code",
   "execution_count": 21,
   "metadata": {},
   "outputs": [
    {
     "data": {
      "text/plain": [
       "RandomForestRegressor(n_estimators=1000, random_state=42)"
      ]
     },
     "execution_count": 21,
     "metadata": {},
     "output_type": "execute_result"
    }
   ],
   "source": [
    "# Let's create the model of Random Forest\n",
    "# Import the model we are using\n",
    "from sklearn.ensemble import RandomForestRegressor\n",
    "# Instantiate model with 1000 decision trees\n",
    "rf = RandomForestRegressor(n_estimators = 1000, random_state = 42)\n",
    "# Train the model on training data\n",
    "rf.fit(x, y)"
   ]
  },
  {
   "cell_type": "code",
   "execution_count": 22,
   "metadata": {},
   "outputs": [],
   "source": [
    "# Let's plot it in an small scale.\n",
    "# Import tools needed for visualization\n",
    "from sklearn.tree import export_graphviz\n",
    "import pydot\n",
    "# Limit depth of tree to 3 levels\n",
    "rf_small = RandomForestRegressor(n_estimators=10, max_depth = 3)\n",
    "rf_small.fit(x, y)\n",
    "# Extract the small tree\n",
    "tree_small = rf_small.estimators_[5]\n",
    "# Save the tree as a png image\n",
    "export_graphviz(tree_small, out_file = 'small_tree.dot', feature_names = feature_list, rounded = True, precision = 1)\n",
    "(graph, ) = pydot.graph_from_dot_file('small_tree.dot')\n",
    "graph.write_png('small_tree.png');"
   ]
  },
  {
   "cell_type": "markdown",
   "metadata": {},
   "source": [
    "### Graph created \"small_tree.png\" \n",
    "![](small_tree.png)"
   ]
  },
  {
   "cell_type": "markdown",
   "metadata": {},
   "source": [
    "## 4th model: Neural Network"
   ]
  },
  {
   "cell_type": "code",
   "execution_count": 6,
   "metadata": {},
   "outputs": [],
   "source": [
    "# Import modules\n",
    "from sklearn.neural_network import MLPRegressor"
   ]
  },
  {
   "cell_type": "code",
   "execution_count": 23,
   "metadata": {},
   "outputs": [],
   "source": [
    "# Create model\n",
    "mlp = MLPRegressor(hidden_layer_sizes=(30,30,30))\n",
    "mlp.fit(x,y)\n",
    "\n",
    "predict_train = mlp.predict(x)\n",
    "# predict_test = mlp.predict(X_test)\n"
   ]
  },
  {
   "cell_type": "code",
   "execution_count": null,
   "metadata": {},
   "outputs": [],
   "source": [
    "# Cross Validation\n",
    "# https://www.analyticsvidhya.com/blog/2021/11/top-7-cross-validation-techniques-with-python-code/\n",
    "\n",
    "# from sklearn.datasets import load_iris\n",
    "# from sklearn.model_selection import cross_val_score,KFold\n",
    "# from sklearn.linear_model import LogisticRegression\n",
    "# iris=load_iris()\n",
    "# X=iris.data\n",
    "# Y=iris.target\n",
    "# logreg=LogisticRegression()\n",
    "# kf=KFold(n_splits=5)\n",
    "# score=cross_val_score(logreg,X,Y,cv=kf)\n",
    "# print(\"Cross Validation Scores are {}\".format(score))\n",
    "# print(\"Average Cross Validation score :{}\".format(score.mean()))"
   ]
  }
 ],
 "metadata": {
  "interpreter": {
   "hash": "494e690407c5c7c9b2fbc0a1227ada2e3d821eefed538763ba3356ad470e06f1"
  },
  "kernelspec": {
   "display_name": "Python 3.9.7 ('base')",
   "language": "python",
   "name": "python3"
  },
  "language_info": {
   "codemirror_mode": {
    "name": "ipython",
    "version": 3
   },
   "file_extension": ".py",
   "mimetype": "text/x-python",
   "name": "python",
   "nbconvert_exporter": "python",
   "pygments_lexer": "ipython3",
   "version": "3.9.7"
  },
  "orig_nbformat": 4
 },
 "nbformat": 4,
 "nbformat_minor": 2
}
