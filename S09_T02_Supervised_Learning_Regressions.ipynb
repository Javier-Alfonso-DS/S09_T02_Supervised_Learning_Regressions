{
 "cells": [
  {
   "cell_type": "markdown",
   "metadata": {},
   "source": [
    "# Description   \n",
    "\n",
    "Let's practice and become familiar with regression.\n",
    "\n",
    "Level 1\n",
    "\n",
    "- Exercise 1\n",
    "\n",
    "Create at least three different regression models to try to predict as well as possible the flight delay (ArrDelay) of DelayedFlights.csv.\n",
    "\n",
    "- Exercise 2\n",
    "\n",
    "Compare them on the basis of MSE and R2 .\n",
    "\n",
    "- Exercise 3\n",
    "\n",
    "Train them using the different parameters they allow.\n",
    "\n",
    "- Exercise 4\n",
    "\n",
    "Compare their performance using the test/train approach or using all data (internal validation).\n",
    "\n",
    "Level 2\n",
    "\n",
    "- Exercise 5\n",
    "\n",
    "Perform some variable engineering process to improve your prediction.\n",
    "\n",
    "Level 3\n",
    "\n",
    "- Exercise 6\n",
    "\n",
    "Do not use the DepDelay variable when making predictions."
   ]
  },
  {
   "cell_type": "markdown",
   "metadata": {},
   "source": [
    "# Level 1  \n",
    "\n",
    "## - Exercise 1\n",
    "\n",
    "Create at least three different regression models to try to predict as well as possible the flight delay (ArrDelay) of DelayedFlights.csv."
   ]
  },
  {
   "cell_type": "code",
   "execution_count": null,
   "metadata": {},
   "outputs": [],
   "source": [
    "# Import libraries\n",
    "import pandas as pd\n",
    "import numpy as np\n",
    "from sklearn.linear_model import LinearRegression\n",
    "from sklearn.model_selection import cross_val_score"
   ]
  },
  {
   "cell_type": "code",
   "execution_count": null,
   "metadata": {},
   "outputs": [],
   "source": [
    "# settings to display all columns (default is 20, now is None (all))\n",
    "pd.set_option(\"display.max_columns\", None)"
   ]
  },
  {
   "cell_type": "code",
   "execution_count": null,
   "metadata": {},
   "outputs": [],
   "source": [
    "# Import cleaned and sampled train an test dataset from previous Task.\n",
    "df_train = pd.read_csv('..\\data\\DelayedFlights_train.csv')\n",
    "df_test  = pd.read_csv('..\\data\\DelayedFlights_test.csv')"
   ]
  },
  {
   "cell_type": "code",
   "execution_count": 77,
   "metadata": {},
   "outputs": [
    {
     "data": {
      "text/html": [
       "<div>\n",
       "<style scoped>\n",
       "    .dataframe tbody tr th:only-of-type {\n",
       "        vertical-align: middle;\n",
       "    }\n",
       "\n",
       "    .dataframe tbody tr th {\n",
       "        vertical-align: top;\n",
       "    }\n",
       "\n",
       "    .dataframe thead th {\n",
       "        text-align: right;\n",
       "    }\n",
       "</style>\n",
       "<table border=\"1\" class=\"dataframe\">\n",
       "  <thead>\n",
       "    <tr style=\"text-align: right;\">\n",
       "      <th></th>\n",
       "      <th>DayOfWeek</th>\n",
       "      <th>DepTime</th>\n",
       "      <th>CRSDepTime</th>\n",
       "      <th>ArrTime</th>\n",
       "      <th>CRSArrTime</th>\n",
       "      <th>ActualElapsedTime</th>\n",
       "      <th>CRSElapsedTime</th>\n",
       "      <th>AirTime</th>\n",
       "      <th>ArrDelay</th>\n",
       "      <th>DepDelay</th>\n",
       "      <th>Distance</th>\n",
       "      <th>TaxiIn</th>\n",
       "      <th>TaxiOut</th>\n",
       "      <th>Date</th>\n",
       "      <th>UniqueCarrier_9E</th>\n",
       "      <th>UniqueCarrier_AA</th>\n",
       "      <th>UniqueCarrier_AQ</th>\n",
       "      <th>UniqueCarrier_AS</th>\n",
       "      <th>UniqueCarrier_B6</th>\n",
       "      <th>UniqueCarrier_CO</th>\n",
       "      <th>UniqueCarrier_DL</th>\n",
       "      <th>UniqueCarrier_EV</th>\n",
       "      <th>UniqueCarrier_F9</th>\n",
       "      <th>UniqueCarrier_FL</th>\n",
       "      <th>UniqueCarrier_HA</th>\n",
       "      <th>UniqueCarrier_MQ</th>\n",
       "      <th>UniqueCarrier_NW</th>\n",
       "      <th>UniqueCarrier_OH</th>\n",
       "      <th>UniqueCarrier_OO</th>\n",
       "      <th>UniqueCarrier_UA</th>\n",
       "      <th>UniqueCarrier_US</th>\n",
       "      <th>UniqueCarrier_WN</th>\n",
       "      <th>UniqueCarrier_XE</th>\n",
       "      <th>UniqueCarrier_YV</th>\n",
       "    </tr>\n",
       "  </thead>\n",
       "  <tbody>\n",
       "    <tr>\n",
       "      <th>0</th>\n",
       "      <td>2</td>\n",
       "      <td>1.396108</td>\n",
       "      <td>1.553827</td>\n",
       "      <td>1.265258</td>\n",
       "      <td>1.312513</td>\n",
       "      <td>-0.781188</td>\n",
       "      <td>-0.790736</td>\n",
       "      <td>-0.818653</td>\n",
       "      <td>-0.423085</td>\n",
       "      <td>-0.453348</td>\n",
       "      <td>-0.683070</td>\n",
       "      <td>-0.341142</td>\n",
       "      <td>0.130433</td>\n",
       "      <td>2008-07-29</td>\n",
       "      <td>0</td>\n",
       "      <td>0</td>\n",
       "      <td>0</td>\n",
       "      <td>0</td>\n",
       "      <td>0</td>\n",
       "      <td>0</td>\n",
       "      <td>0</td>\n",
       "      <td>0</td>\n",
       "      <td>0</td>\n",
       "      <td>0</td>\n",
       "      <td>0</td>\n",
       "      <td>0</td>\n",
       "      <td>1</td>\n",
       "      <td>0</td>\n",
       "      <td>0</td>\n",
       "      <td>0</td>\n",
       "      <td>0</td>\n",
       "      <td>0</td>\n",
       "      <td>0</td>\n",
       "      <td>0</td>\n",
       "    </tr>\n",
       "    <tr>\n",
       "      <th>1</th>\n",
       "      <td>2</td>\n",
       "      <td>-0.699602</td>\n",
       "      <td>-0.997079</td>\n",
       "      <td>-0.540408</td>\n",
       "      <td>-0.920752</td>\n",
       "      <td>-0.905020</td>\n",
       "      <td>-0.832512</td>\n",
       "      <td>-0.804233</td>\n",
       "      <td>0.577369</td>\n",
       "      <td>0.739595</td>\n",
       "      <td>-0.783172</td>\n",
       "      <td>-0.154948</td>\n",
       "      <td>-0.654312</td>\n",
       "      <td>2008-10-07</td>\n",
       "      <td>0</td>\n",
       "      <td>0</td>\n",
       "      <td>0</td>\n",
       "      <td>0</td>\n",
       "      <td>0</td>\n",
       "      <td>1</td>\n",
       "      <td>0</td>\n",
       "      <td>0</td>\n",
       "      <td>0</td>\n",
       "      <td>0</td>\n",
       "      <td>0</td>\n",
       "      <td>0</td>\n",
       "      <td>0</td>\n",
       "      <td>0</td>\n",
       "      <td>0</td>\n",
       "      <td>0</td>\n",
       "      <td>0</td>\n",
       "      <td>0</td>\n",
       "      <td>0</td>\n",
       "      <td>0</td>\n",
       "    </tr>\n",
       "    <tr>\n",
       "      <th>2</th>\n",
       "      <td>4</td>\n",
       "      <td>0.049503</td>\n",
       "      <td>0.125887</td>\n",
       "      <td>0.575125</td>\n",
       "      <td>0.600955</td>\n",
       "      <td>0.402102</td>\n",
       "      <td>0.490397</td>\n",
       "      <td>0.551251</td>\n",
       "      <td>-0.536344</td>\n",
       "      <td>-0.453348</td>\n",
       "      <td>0.708000</td>\n",
       "      <td>-0.713531</td>\n",
       "      <td>-0.368950</td>\n",
       "      <td>2008-06-26</td>\n",
       "      <td>0</td>\n",
       "      <td>0</td>\n",
       "      <td>0</td>\n",
       "      <td>0</td>\n",
       "      <td>0</td>\n",
       "      <td>0</td>\n",
       "      <td>0</td>\n",
       "      <td>0</td>\n",
       "      <td>0</td>\n",
       "      <td>0</td>\n",
       "      <td>0</td>\n",
       "      <td>0</td>\n",
       "      <td>0</td>\n",
       "      <td>0</td>\n",
       "      <td>0</td>\n",
       "      <td>0</td>\n",
       "      <td>0</td>\n",
       "      <td>1</td>\n",
       "      <td>0</td>\n",
       "      <td>0</td>\n",
       "    </tr>\n",
       "    <tr>\n",
       "      <th>3</th>\n",
       "      <td>4</td>\n",
       "      <td>-0.445441</td>\n",
       "      <td>-0.394224</td>\n",
       "      <td>0.222755</td>\n",
       "      <td>0.198024</td>\n",
       "      <td>0.801118</td>\n",
       "      <td>0.936008</td>\n",
       "      <td>0.868492</td>\n",
       "      <td>-0.630727</td>\n",
       "      <td>-0.493787</td>\n",
       "      <td>0.918559</td>\n",
       "      <td>-0.341142</td>\n",
       "      <td>-0.012248</td>\n",
       "      <td>2008-04-10</td>\n",
       "      <td>0</td>\n",
       "      <td>0</td>\n",
       "      <td>0</td>\n",
       "      <td>0</td>\n",
       "      <td>0</td>\n",
       "      <td>0</td>\n",
       "      <td>0</td>\n",
       "      <td>0</td>\n",
       "      <td>0</td>\n",
       "      <td>0</td>\n",
       "      <td>0</td>\n",
       "      <td>0</td>\n",
       "      <td>0</td>\n",
       "      <td>0</td>\n",
       "      <td>0</td>\n",
       "      <td>0</td>\n",
       "      <td>1</td>\n",
       "      <td>0</td>\n",
       "      <td>0</td>\n",
       "      <td>0</td>\n",
       "    </tr>\n",
       "    <tr>\n",
       "      <th>4</th>\n",
       "      <td>5</td>\n",
       "      <td>0.004914</td>\n",
       "      <td>-0.082158</td>\n",
       "      <td>0.184414</td>\n",
       "      <td>-0.012015</td>\n",
       "      <td>-0.340894</td>\n",
       "      <td>-0.317274</td>\n",
       "      <td>-0.227431</td>\n",
       "      <td>0.067703</td>\n",
       "      <td>0.112794</td>\n",
       "      <td>-0.334439</td>\n",
       "      <td>0.217440</td>\n",
       "      <td>-0.725652</td>\n",
       "      <td>2008-01-11</td>\n",
       "      <td>0</td>\n",
       "      <td>0</td>\n",
       "      <td>0</td>\n",
       "      <td>0</td>\n",
       "      <td>0</td>\n",
       "      <td>0</td>\n",
       "      <td>0</td>\n",
       "      <td>0</td>\n",
       "      <td>0</td>\n",
       "      <td>1</td>\n",
       "      <td>0</td>\n",
       "      <td>0</td>\n",
       "      <td>0</td>\n",
       "      <td>0</td>\n",
       "      <td>0</td>\n",
       "      <td>0</td>\n",
       "      <td>0</td>\n",
       "      <td>0</td>\n",
       "      <td>0</td>\n",
       "      <td>0</td>\n",
       "    </tr>\n",
       "  </tbody>\n",
       "</table>\n",
       "</div>"
      ],
      "text/plain": [
       "   DayOfWeek   DepTime  CRSDepTime   ArrTime  CRSArrTime  ActualElapsedTime  \\\n",
       "0          2  1.396108    1.553827  1.265258    1.312513          -0.781188   \n",
       "1          2 -0.699602   -0.997079 -0.540408   -0.920752          -0.905020   \n",
       "2          4  0.049503    0.125887  0.575125    0.600955           0.402102   \n",
       "3          4 -0.445441   -0.394224  0.222755    0.198024           0.801118   \n",
       "4          5  0.004914   -0.082158  0.184414   -0.012015          -0.340894   \n",
       "\n",
       "   CRSElapsedTime   AirTime  ArrDelay  DepDelay  Distance    TaxiIn   TaxiOut  \\\n",
       "0       -0.790736 -0.818653 -0.423085 -0.453348 -0.683070 -0.341142  0.130433   \n",
       "1       -0.832512 -0.804233  0.577369  0.739595 -0.783172 -0.154948 -0.654312   \n",
       "2        0.490397  0.551251 -0.536344 -0.453348  0.708000 -0.713531 -0.368950   \n",
       "3        0.936008  0.868492 -0.630727 -0.493787  0.918559 -0.341142 -0.012248   \n",
       "4       -0.317274 -0.227431  0.067703  0.112794 -0.334439  0.217440 -0.725652   \n",
       "\n",
       "         Date  UniqueCarrier_9E  UniqueCarrier_AA  UniqueCarrier_AQ  \\\n",
       "0  2008-07-29                 0                 0                 0   \n",
       "1  2008-10-07                 0                 0                 0   \n",
       "2  2008-06-26                 0                 0                 0   \n",
       "3  2008-04-10                 0                 0                 0   \n",
       "4  2008-01-11                 0                 0                 0   \n",
       "\n",
       "   UniqueCarrier_AS  UniqueCarrier_B6  UniqueCarrier_CO  UniqueCarrier_DL  \\\n",
       "0                 0                 0                 0                 0   \n",
       "1                 0                 0                 1                 0   \n",
       "2                 0                 0                 0                 0   \n",
       "3                 0                 0                 0                 0   \n",
       "4                 0                 0                 0                 0   \n",
       "\n",
       "   UniqueCarrier_EV  UniqueCarrier_F9  UniqueCarrier_FL  UniqueCarrier_HA  \\\n",
       "0                 0                 0                 0                 0   \n",
       "1                 0                 0                 0                 0   \n",
       "2                 0                 0                 0                 0   \n",
       "3                 0                 0                 0                 0   \n",
       "4                 0                 0                 1                 0   \n",
       "\n",
       "   UniqueCarrier_MQ  UniqueCarrier_NW  UniqueCarrier_OH  UniqueCarrier_OO  \\\n",
       "0                 0                 1                 0                 0   \n",
       "1                 0                 0                 0                 0   \n",
       "2                 0                 0                 0                 0   \n",
       "3                 0                 0                 0                 0   \n",
       "4                 0                 0                 0                 0   \n",
       "\n",
       "   UniqueCarrier_UA  UniqueCarrier_US  UniqueCarrier_WN  UniqueCarrier_XE  \\\n",
       "0                 0                 0                 0                 0   \n",
       "1                 0                 0                 0                 0   \n",
       "2                 0                 0                 1                 0   \n",
       "3                 0                 1                 0                 0   \n",
       "4                 0                 0                 0                 0   \n",
       "\n",
       "   UniqueCarrier_YV  \n",
       "0                 0  \n",
       "1                 0  \n",
       "2                 0  \n",
       "3                 0  \n",
       "4                 0  "
      ]
     },
     "metadata": {},
     "output_type": "display_data"
    },
    {
     "data": {
      "text/plain": [
       "(12919, 34)"
      ]
     },
     "metadata": {},
     "output_type": "display_data"
    },
    {
     "data": {
      "text/html": [
       "<div>\n",
       "<style scoped>\n",
       "    .dataframe tbody tr th:only-of-type {\n",
       "        vertical-align: middle;\n",
       "    }\n",
       "\n",
       "    .dataframe tbody tr th {\n",
       "        vertical-align: top;\n",
       "    }\n",
       "\n",
       "    .dataframe thead th {\n",
       "        text-align: right;\n",
       "    }\n",
       "</style>\n",
       "<table border=\"1\" class=\"dataframe\">\n",
       "  <thead>\n",
       "    <tr style=\"text-align: right;\">\n",
       "      <th></th>\n",
       "      <th>DayOfWeek</th>\n",
       "      <th>DepTime</th>\n",
       "      <th>CRSDepTime</th>\n",
       "      <th>ArrTime</th>\n",
       "      <th>CRSArrTime</th>\n",
       "      <th>ActualElapsedTime</th>\n",
       "      <th>CRSElapsedTime</th>\n",
       "      <th>AirTime</th>\n",
       "      <th>ArrDelay</th>\n",
       "      <th>DepDelay</th>\n",
       "      <th>Distance</th>\n",
       "      <th>TaxiIn</th>\n",
       "      <th>TaxiOut</th>\n",
       "      <th>Date</th>\n",
       "      <th>UniqueCarrier_9E</th>\n",
       "      <th>UniqueCarrier_AA</th>\n",
       "      <th>UniqueCarrier_AQ</th>\n",
       "      <th>UniqueCarrier_AS</th>\n",
       "      <th>UniqueCarrier_B6</th>\n",
       "      <th>UniqueCarrier_CO</th>\n",
       "      <th>UniqueCarrier_DL</th>\n",
       "      <th>UniqueCarrier_EV</th>\n",
       "      <th>UniqueCarrier_F9</th>\n",
       "      <th>UniqueCarrier_FL</th>\n",
       "      <th>UniqueCarrier_HA</th>\n",
       "      <th>UniqueCarrier_MQ</th>\n",
       "      <th>UniqueCarrier_NW</th>\n",
       "      <th>UniqueCarrier_OH</th>\n",
       "      <th>UniqueCarrier_OO</th>\n",
       "      <th>UniqueCarrier_UA</th>\n",
       "      <th>UniqueCarrier_US</th>\n",
       "      <th>UniqueCarrier_WN</th>\n",
       "      <th>UniqueCarrier_XE</th>\n",
       "      <th>UniqueCarrier_YV</th>\n",
       "    </tr>\n",
       "  </thead>\n",
       "  <tbody>\n",
       "    <tr>\n",
       "      <th>0</th>\n",
       "      <td>6</td>\n",
       "      <td>-1.823944</td>\n",
       "      <td>-1.944788</td>\n",
       "      <td>-1.260533</td>\n",
       "      <td>-1.568576</td>\n",
       "      <td>0.189117</td>\n",
       "      <td>0.250020</td>\n",
       "      <td>0.109294</td>\n",
       "      <td>-0.582996</td>\n",
       "      <td>-0.546662</td>\n",
       "      <td>0.005498</td>\n",
       "      <td>1.589749</td>\n",
       "      <td>-0.155199</td>\n",
       "      <td>2008-05-10</td>\n",
       "      <td>0</td>\n",
       "      <td>0</td>\n",
       "      <td>0</td>\n",
       "      <td>0</td>\n",
       "      <td>0</td>\n",
       "      <td>0</td>\n",
       "      <td>1</td>\n",
       "      <td>0</td>\n",
       "      <td>0</td>\n",
       "      <td>0</td>\n",
       "      <td>0</td>\n",
       "      <td>0</td>\n",
       "      <td>0</td>\n",
       "      <td>0</td>\n",
       "      <td>0</td>\n",
       "      <td>0</td>\n",
       "      <td>0</td>\n",
       "      <td>0</td>\n",
       "      <td>0</td>\n",
       "      <td>0</td>\n",
       "    </tr>\n",
       "    <tr>\n",
       "      <th>1</th>\n",
       "      <td>1</td>\n",
       "      <td>0.215545</td>\n",
       "      <td>0.130093</td>\n",
       "      <td>0.194082</td>\n",
       "      <td>-0.020472</td>\n",
       "      <td>-0.092822</td>\n",
       "      <td>-0.091189</td>\n",
       "      <td>-0.052790</td>\n",
       "      <td>0.177841</td>\n",
       "      <td>0.194912</td>\n",
       "      <td>-0.116385</td>\n",
       "      <td>0.239096</td>\n",
       "      <td>-0.293704</td>\n",
       "      <td>2008-12-01</td>\n",
       "      <td>0</td>\n",
       "      <td>0</td>\n",
       "      <td>0</td>\n",
       "      <td>0</td>\n",
       "      <td>0</td>\n",
       "      <td>0</td>\n",
       "      <td>0</td>\n",
       "      <td>0</td>\n",
       "      <td>0</td>\n",
       "      <td>1</td>\n",
       "      <td>0</td>\n",
       "      <td>0</td>\n",
       "      <td>0</td>\n",
       "      <td>0</td>\n",
       "      <td>0</td>\n",
       "      <td>0</td>\n",
       "      <td>0</td>\n",
       "      <td>0</td>\n",
       "      <td>0</td>\n",
       "      <td>0</td>\n",
       "    </tr>\n",
       "    <tr>\n",
       "      <th>2</th>\n",
       "      <td>2</td>\n",
       "      <td>-0.900783</td>\n",
       "      <td>-0.990819</td>\n",
       "      <td>-0.112347</td>\n",
       "      <td>-0.211244</td>\n",
       "      <td>0.344183</td>\n",
       "      <td>0.520144</td>\n",
       "      <td>0.462933</td>\n",
       "      <td>-0.528651</td>\n",
       "      <td>-0.331996</td>\n",
       "      <td>0.729733</td>\n",
       "      <td>-0.146805</td>\n",
       "      <td>-0.432210</td>\n",
       "      <td>2008-12-23</td>\n",
       "      <td>0</td>\n",
       "      <td>1</td>\n",
       "      <td>0</td>\n",
       "      <td>0</td>\n",
       "      <td>0</td>\n",
       "      <td>0</td>\n",
       "      <td>0</td>\n",
       "      <td>0</td>\n",
       "      <td>0</td>\n",
       "      <td>0</td>\n",
       "      <td>0</td>\n",
       "      <td>0</td>\n",
       "      <td>0</td>\n",
       "      <td>0</td>\n",
       "      <td>0</td>\n",
       "      <td>0</td>\n",
       "      <td>0</td>\n",
       "      <td>0</td>\n",
       "      <td>0</td>\n",
       "      <td>0</td>\n",
       "    </tr>\n",
       "    <tr>\n",
       "      <th>3</th>\n",
       "      <td>7</td>\n",
       "      <td>0.756863</td>\n",
       "      <td>0.893268</td>\n",
       "      <td>1.347805</td>\n",
       "      <td>1.496933</td>\n",
       "      <td>0.527443</td>\n",
       "      <td>0.363756</td>\n",
       "      <td>0.477668</td>\n",
       "      <td>-0.311269</td>\n",
       "      <td>-0.566177</td>\n",
       "      <td>0.576054</td>\n",
       "      <td>-0.146805</td>\n",
       "      <td>0.398824</td>\n",
       "      <td>2008-08-17</td>\n",
       "      <td>0</td>\n",
       "      <td>0</td>\n",
       "      <td>0</td>\n",
       "      <td>0</td>\n",
       "      <td>0</td>\n",
       "      <td>0</td>\n",
       "      <td>0</td>\n",
       "      <td>0</td>\n",
       "      <td>1</td>\n",
       "      <td>0</td>\n",
       "      <td>0</td>\n",
       "      <td>0</td>\n",
       "      <td>0</td>\n",
       "      <td>0</td>\n",
       "      <td>0</td>\n",
       "      <td>0</td>\n",
       "      <td>0</td>\n",
       "      <td>0</td>\n",
       "      <td>0</td>\n",
       "      <td>0</td>\n",
       "    </tr>\n",
       "    <tr>\n",
       "      <th>4</th>\n",
       "      <td>1</td>\n",
       "      <td>0.015639</td>\n",
       "      <td>-0.311117</td>\n",
       "      <td>0.343604</td>\n",
       "      <td>-0.059942</td>\n",
       "      <td>-0.515730</td>\n",
       "      <td>-0.560351</td>\n",
       "      <td>-0.465368</td>\n",
       "      <td>1.246637</td>\n",
       "      <td>1.287758</td>\n",
       "      <td>-0.409612</td>\n",
       "      <td>1.203848</td>\n",
       "      <td>-0.778474</td>\n",
       "      <td>2008-01-21</td>\n",
       "      <td>0</td>\n",
       "      <td>0</td>\n",
       "      <td>0</td>\n",
       "      <td>0</td>\n",
       "      <td>0</td>\n",
       "      <td>0</td>\n",
       "      <td>0</td>\n",
       "      <td>0</td>\n",
       "      <td>0</td>\n",
       "      <td>0</td>\n",
       "      <td>0</td>\n",
       "      <td>0</td>\n",
       "      <td>0</td>\n",
       "      <td>0</td>\n",
       "      <td>1</td>\n",
       "      <td>0</td>\n",
       "      <td>0</td>\n",
       "      <td>0</td>\n",
       "      <td>0</td>\n",
       "      <td>0</td>\n",
       "    </tr>\n",
       "  </tbody>\n",
       "</table>\n",
       "</div>"
      ],
      "text/plain": [
       "   DayOfWeek   DepTime  CRSDepTime   ArrTime  CRSArrTime  ActualElapsedTime  \\\n",
       "0          6 -1.823944   -1.944788 -1.260533   -1.568576           0.189117   \n",
       "1          1  0.215545    0.130093  0.194082   -0.020472          -0.092822   \n",
       "2          2 -0.900783   -0.990819 -0.112347   -0.211244           0.344183   \n",
       "3          7  0.756863    0.893268  1.347805    1.496933           0.527443   \n",
       "4          1  0.015639   -0.311117  0.343604   -0.059942          -0.515730   \n",
       "\n",
       "   CRSElapsedTime   AirTime  ArrDelay  DepDelay  Distance    TaxiIn   TaxiOut  \\\n",
       "0        0.250020  0.109294 -0.582996 -0.546662  0.005498  1.589749 -0.155199   \n",
       "1       -0.091189 -0.052790  0.177841  0.194912 -0.116385  0.239096 -0.293704   \n",
       "2        0.520144  0.462933 -0.528651 -0.331996  0.729733 -0.146805 -0.432210   \n",
       "3        0.363756  0.477668 -0.311269 -0.566177  0.576054 -0.146805  0.398824   \n",
       "4       -0.560351 -0.465368  1.246637  1.287758 -0.409612  1.203848 -0.778474   \n",
       "\n",
       "         Date  UniqueCarrier_9E  UniqueCarrier_AA  UniqueCarrier_AQ  \\\n",
       "0  2008-05-10                 0                 0                 0   \n",
       "1  2008-12-01                 0                 0                 0   \n",
       "2  2008-12-23                 0                 1                 0   \n",
       "3  2008-08-17                 0                 0                 0   \n",
       "4  2008-01-21                 0                 0                 0   \n",
       "\n",
       "   UniqueCarrier_AS  UniqueCarrier_B6  UniqueCarrier_CO  UniqueCarrier_DL  \\\n",
       "0                 0                 0                 0                 1   \n",
       "1                 0                 0                 0                 0   \n",
       "2                 0                 0                 0                 0   \n",
       "3                 0                 0                 0                 0   \n",
       "4                 0                 0                 0                 0   \n",
       "\n",
       "   UniqueCarrier_EV  UniqueCarrier_F9  UniqueCarrier_FL  UniqueCarrier_HA  \\\n",
       "0                 0                 0                 0                 0   \n",
       "1                 0                 0                 1                 0   \n",
       "2                 0                 0                 0                 0   \n",
       "3                 0                 1                 0                 0   \n",
       "4                 0                 0                 0                 0   \n",
       "\n",
       "   UniqueCarrier_MQ  UniqueCarrier_NW  UniqueCarrier_OH  UniqueCarrier_OO  \\\n",
       "0                 0                 0                 0                 0   \n",
       "1                 0                 0                 0                 0   \n",
       "2                 0                 0                 0                 0   \n",
       "3                 0                 0                 0                 0   \n",
       "4                 0                 0                 0                 1   \n",
       "\n",
       "   UniqueCarrier_UA  UniqueCarrier_US  UniqueCarrier_WN  UniqueCarrier_XE  \\\n",
       "0                 0                 0                 0                 0   \n",
       "1                 0                 0                 0                 0   \n",
       "2                 0                 0                 0                 0   \n",
       "3                 0                 0                 0                 0   \n",
       "4                 0                 0                 0                 0   \n",
       "\n",
       "   UniqueCarrier_YV  \n",
       "0                 0  \n",
       "1                 0  \n",
       "2                 0  \n",
       "3                 0  \n",
       "4                 0  "
      ]
     },
     "metadata": {},
     "output_type": "display_data"
    },
    {
     "data": {
      "text/plain": [
       "(6364, 34)"
      ]
     },
     "metadata": {},
     "output_type": "display_data"
    }
   ],
   "source": [
    "# Let's explore the dataset\n",
    "display(df_train.head())\n",
    "display(df_train.shape)\n",
    "display(df_test.head())\n",
    "display(df_test.shape)"
   ]
  },
  {
   "cell_type": "markdown",
   "metadata": {},
   "source": [
    "### Explanation  \n",
    "The train / test sample is imported from previous Task (S09T01).  \n",
    "This train / test sample is 1% of the original dataset, parted 33% test and 66% train. "
   ]
  },
  {
   "cell_type": "code",
   "execution_count": null,
   "metadata": {},
   "outputs": [],
   "source": [
    "# Let's delete the first column\n",
    "df_train = df_train.drop(columns='Unnamed: 0')\n",
    "df_test  = df_test.drop(columns='Unnamed: 0')"
   ]
  },
  {
   "cell_type": "markdown",
   "metadata": {},
   "source": [
    "## 1st model: Linear regression between DepDelay and ArrDelay."
   ]
  },
  {
   "cell_type": "code",
   "execution_count": null,
   "metadata": {},
   "outputs": [],
   "source": [
    "# Our y or Target is ArrDelay:\n",
    "y_train = df_train.ArrDelay\n",
    "print(type(y_train))\n",
    "y_train = y_train.array # let's convert Pd series column to Numpy Array as needed for the model.\n",
    "print(type(y_train))\n",
    "y_test  = df_test.ArrDelay\n",
    "y_test  = y_test.array # let's convert Pd series column to Numpy Array as needed for the model."
   ]
  },
  {
   "cell_type": "code",
   "execution_count": null,
   "metadata": {},
   "outputs": [],
   "source": [
    "# Our x easily could be DepDelay (as logical)\n",
    "x_train = df_train.DepDelay\n",
    "print(\"Shape before reshape: \",x_train.shape)\n",
    "x_train = x_train.array.reshape(-1, 1)\n",
    "print(\"Shape after reshape: \",x_train.shape)\n",
    "x_test  = df_test.DepDelay\n",
    "x_test  = x_test.array.reshape(-1, 1)"
   ]
  },
  {
   "cell_type": "code",
   "execution_count": null,
   "metadata": {},
   "outputs": [],
   "source": [
    "# Fit the model ( calculate b0 and b1 for the model y = b0 + b1x )\n",
    "model1 = LinearRegression().fit(x_train,y_train)"
   ]
  },
  {
   "cell_type": "code",
   "execution_count": 33,
   "metadata": {},
   "outputs": [
    {
     "name": "stdout",
     "output_type": "stream",
     "text": [
      "coefficient of determination with train data: 0.895\n"
     ]
    }
   ],
   "source": [
    "# Calculate R2 to see the accuracy of the model with train data.\n",
    "r_sq_train = model1.score(x_train,y_train)\n",
    "print('coefficient of determination with train data: %.3f' %r_sq_train)"
   ]
  },
  {
   "cell_type": "code",
   "execution_count": 34,
   "metadata": {},
   "outputs": [
    {
     "name": "stdout",
     "output_type": "stream",
     "text": [
      "coefficient of determination with test data: 0.902\n"
     ]
    }
   ],
   "source": [
    "# Calculate R2 to see the accuracy of the model with test data.\n",
    "r_sq_test = model1.score(x_test,y_test)\n",
    "print('coefficient of determination with test data: %.3f' %r_sq_test)"
   ]
  },
  {
   "cell_type": "code",
   "execution_count": 35,
   "metadata": {},
   "outputs": [
    {
     "data": {
      "text/plain": [
       "(12919,)"
      ]
     },
     "execution_count": 35,
     "metadata": {},
     "output_type": "execute_result"
    }
   ],
   "source": [
    "# Let's calculate the prediction of the model\n",
    "y_pred1 = model1.predict(x_train)\n",
    "y_pred1.shape"
   ]
  },
  {
   "cell_type": "markdown",
   "metadata": {},
   "source": [
    "### Observation 1:  \n",
    "As we expected, the accuracy of the model is very high (0.895 with train data and 0.902 with test data).  \n",
    "The dependency between Arrival Delay and Departure Delay is quite obvious."
   ]
  },
  {
   "cell_type": "markdown",
   "metadata": {},
   "source": [
    "## 2nd model: Multiple Linear Regression"
   ]
  },
  {
   "cell_type": "code",
   "execution_count": 36,
   "metadata": {},
   "outputs": [],
   "source": [
    "# Our Y or Target is ArrDelay:\n",
    "y_train = df_train.ArrDelay\n",
    "y_train = y_train.array # Convert pandas series to numpy array\n",
    "type(y_train)\n",
    "y_test  = df_test.ArrDelay.array\n"
   ]
  },
  {
   "cell_type": "code",
   "execution_count": 37,
   "metadata": {},
   "outputs": [],
   "source": [
    "# Our X now is going to be all the columns in df_train except ArrDelay and Date (also the OHE of Airline)\n",
    "X_train = df_train.drop(columns=[\"ArrDelay\",\"Date\"])\n",
    "feature_list = list(X_train.columns) # Saving feature names for later use\n",
    "X_train = X_train.to_numpy() # Convert dataframe to array\n",
    "type(X_train)\n",
    "X_test = df_test.drop(columns=[\"ArrDelay\",\"Date\"]).to_numpy()"
   ]
  },
  {
   "cell_type": "code",
   "execution_count": 38,
   "metadata": {},
   "outputs": [],
   "source": [
    "# Fit the model ( calculate b0...bn for the multiple lineal model y = b0 + b1x1 +... + bnxn)\n",
    "model2 = LinearRegression().fit(X_train,y_train)"
   ]
  },
  {
   "cell_type": "code",
   "execution_count": 39,
   "metadata": {},
   "outputs": [
    {
     "name": "stdout",
     "output_type": "stream",
     "text": [
      "coefficient of determination with train data: 0.895\n"
     ]
    }
   ],
   "source": [
    "# Calculate R2 to see the accuracy of the model with train data.\n",
    "r_sq_train2 = model2.score(X_train,y_train)\n",
    "print('coefficient of determination with train data: %.3f' %r_sq_train)"
   ]
  },
  {
   "cell_type": "code",
   "execution_count": 40,
   "metadata": {},
   "outputs": [
    {
     "name": "stdout",
     "output_type": "stream",
     "text": [
      "coefficient of determination with test data: 0.902\n"
     ]
    }
   ],
   "source": [
    "# Calculate R2 to see the accuracy of the model with test data.\n",
    "r_sq_test2 = model2.score(X_test,y_test)\n",
    "print('coefficient of determination with test data: %.3f' %r_sq_test)"
   ]
  },
  {
   "cell_type": "code",
   "execution_count": 41,
   "metadata": {},
   "outputs": [
    {
     "name": "stdout",
     "output_type": "stream",
     "text": [
      "Multiple Linear Regression:\n",
      " Accuracy with train data: 1.0 +/- 0.0 \n",
      "\n"
     ]
    }
   ],
   "source": [
    "# Applying k-Fold Cross Validation (CV) with train data\n",
    "accuracies2a = cross_val_score(estimator = model2, X=X_train, y=y_train , cv = 10)\n",
    "print(\"Multiple Linear Regression:\\n Accuracy with train data:\", accuracies2a.mean(), \"+/-\", accuracies2a.std(),\"\\n\")"
   ]
  },
  {
   "cell_type": "code",
   "execution_count": 42,
   "metadata": {},
   "outputs": [
    {
     "name": "stdout",
     "output_type": "stream",
     "text": [
      "Multiple Linear Regression:\n",
      " Accuracy with test data: 1.0 +/- 0.0 \n",
      "\n"
     ]
    }
   ],
   "source": [
    "# Applying k-Fold Cross Validation (CV) with test data\n",
    "accuracies2b = cross_val_score(estimator = model2, X=X_test, y=y_test , cv = 10)\n",
    "print(\"Multiple Linear Regression:\\n Accuracy with test data:\", accuracies2b.mean(), \"+/-\", accuracies2b.std(),\"\\n\")"
   ]
  },
  {
   "cell_type": "code",
   "execution_count": 43,
   "metadata": {},
   "outputs": [
    {
     "data": {
      "text/plain": [
       "(12919,)"
      ]
     },
     "execution_count": 43,
     "metadata": {},
     "output_type": "execute_result"
    }
   ],
   "source": [
    "# Let's calculate the prediction of the model\n",
    "y_pred2 = model2.predict(X_train)\n",
    "y_pred2.shape"
   ]
  },
  {
   "cell_type": "markdown",
   "metadata": {},
   "source": [
    "### Observation 2:  \n",
    "The accuracy of the model is the maximum (1.0) with Train data.    \n",
    "That is a perfect fit, meaning that all the data is explained with the model. Like the target is a dependent variable of the attributes.  \n",
    "That's normal, because is our $R^2$ with the train set. \n",
    "\n",
    "Later, we test it against the test set and $R^2$ and is also a perfect fit.  \n",
    "This is not normal in the real world, but we have a very dependant variable DepDelay, that can explain this behavior and also the accuracy of Cross Validation."
   ]
  },
  {
   "cell_type": "markdown",
   "metadata": {},
   "source": [
    "## 3rd model: Random Forest Regression"
   ]
  },
  {
   "cell_type": "code",
   "execution_count": 44,
   "metadata": {},
   "outputs": [
    {
     "data": {
      "text/plain": [
       "RandomForestRegressor(n_estimators=10, random_state=42)"
      ]
     },
     "execution_count": 44,
     "metadata": {},
     "output_type": "execute_result"
    }
   ],
   "source": [
    "# Let's create the model of Random Forest\n",
    "# Import the model we are using\n",
    "from sklearn.ensemble import RandomForestRegressor\n",
    "# Instantiate model with 100 decision trees\n",
    "model3 = RandomForestRegressor(n_estimators = 10, random_state = 42)\n",
    "# Train the model on training data\n",
    "model3.fit(X_train, y_train)"
   ]
  },
  {
   "cell_type": "code",
   "execution_count": 45,
   "metadata": {},
   "outputs": [
    {
     "name": "stdout",
     "output_type": "stream",
     "text": [
      "coefficient of determination with train data: 1.000\n"
     ]
    }
   ],
   "source": [
    "# Calculate R2 to see the accuracy of the model with train data.\n",
    "r_sq_train3 = model3.score(X_train,y_train)\n",
    "print('coefficient of determination with train data: %.3f' %r_sq_train2)"
   ]
  },
  {
   "cell_type": "code",
   "execution_count": 46,
   "metadata": {},
   "outputs": [
    {
     "name": "stdout",
     "output_type": "stream",
     "text": [
      "coefficient of determination with test data: 1.000\n"
     ]
    }
   ],
   "source": [
    "# Calculate R2 to see the accuracy of the model with test data.\n",
    "r_sq_test3 = model3.score(X_test,y_test)\n",
    "print('coefficient of determination with test data: %.3f' %r_sq_test2)"
   ]
  },
  {
   "cell_type": "code",
   "execution_count": 47,
   "metadata": {},
   "outputs": [
    {
     "name": "stdout",
     "output_type": "stream",
     "text": [
      "RandomForestRegressor:\n",
      " Accuracy: 0.9565624734757234 +/- 0.007685769658961897 \n",
      "\n"
     ]
    }
   ],
   "source": [
    "# Applying k-Fold Cross Validation (CV)\n",
    "accuracies3 = cross_val_score(estimator = model3, X=X_train, y=y_train , cv = 10)\n",
    "print(\"RandomForestRegressor:\\n Accuracy:\", accuracies3.mean(), \"+/-\", accuracies3.std(),\"\\n\")"
   ]
  },
  {
   "cell_type": "code",
   "execution_count": 48,
   "metadata": {},
   "outputs": [
    {
     "name": "stdout",
     "output_type": "stream",
     "text": [
      "RandomForest Regression:\n",
      " Accuracy: 0.9565624734757234 +/- 0.007685769658961897 \n",
      "\n"
     ]
    }
   ],
   "source": [
    "# Applying k-Fold Cross Validation (CV) with train data\n",
    "accuracies3a = cross_val_score(estimator = model3, X=X_train, y=y_train , cv = 10)\n",
    "print(\"RandomForest Regression:\\n Accuracy:\", accuracies3a.mean(), \"+/-\", accuracies3a.std(),\"\\n\")"
   ]
  },
  {
   "cell_type": "code",
   "execution_count": 49,
   "metadata": {},
   "outputs": [
    {
     "name": "stdout",
     "output_type": "stream",
     "text": [
      "RandomForest Regression:\n",
      " Accuracy: 0.9540780342184462 +/- 0.006585823503450868 \n",
      "\n"
     ]
    }
   ],
   "source": [
    "# Applying k-Fold Cross Validation (CV) with test data\n",
    "accuracies3b = cross_val_score(estimator = model3, X=X_test, y=y_test , cv = 10)\n",
    "print(\"RandomForest Regression:\\n Accuracy:\", accuracies3b.mean(), \"+/-\", accuracies3b.std(),\"\\n\")"
   ]
  },
  {
   "cell_type": "code",
   "execution_count": 50,
   "metadata": {},
   "outputs": [
    {
     "data": {
      "text/plain": [
       "(12919,)"
      ]
     },
     "execution_count": 50,
     "metadata": {},
     "output_type": "execute_result"
    }
   ],
   "source": [
    "# Let's calculate the prediction of the model\n",
    "y_pred3 = model3.predict(X_train)\n",
    "y_pred3.shape"
   ]
  },
  {
   "cell_type": "markdown",
   "metadata": {},
   "source": [
    "### Observation 3.\n",
    "* Here also the R^2 and the accuracy of the Cross Validation are very high (~0.95).\n",
    "* The explanation is the same than in the previous model, the variable DepDelay is strongly dependent with the target.\n",
    "* On the last exercise, we will take out this variable and rerun the models."
   ]
  },
  {
   "cell_type": "markdown",
   "metadata": {},
   "source": [
    "## 4th model: Neural Network Regression"
   ]
  },
  {
   "cell_type": "code",
   "execution_count": 51,
   "metadata": {},
   "outputs": [],
   "source": [
    "# Import modules\n",
    "from sklearn.neural_network import MLPRegressor"
   ]
  },
  {
   "cell_type": "code",
   "execution_count": 52,
   "metadata": {},
   "outputs": [
    {
     "data": {
      "text/plain": [
       "MLPRegressor(max_iter=500, random_state=1)"
      ]
     },
     "execution_count": 52,
     "metadata": {},
     "output_type": "execute_result"
    }
   ],
   "source": [
    "# Create model\n",
    "model4 = MLPRegressor(activation='relu',solver='adam',random_state=1, max_iter=500)\n",
    "model4.fit(X_train,y_train)"
   ]
  },
  {
   "cell_type": "code",
   "execution_count": 53,
   "metadata": {},
   "outputs": [
    {
     "name": "stdout",
     "output_type": "stream",
     "text": [
      "coefficient of determination with train data: 0.999\n"
     ]
    }
   ],
   "source": [
    "# Calculate R2 to see the accuracy of the model with train data.\n",
    "r_sq_train4 = model4.score(X_train,y_train)\n",
    "print('coefficient of determination with train data: %.3f' %r_sq_train4)"
   ]
  },
  {
   "cell_type": "code",
   "execution_count": 54,
   "metadata": {},
   "outputs": [
    {
     "name": "stdout",
     "output_type": "stream",
     "text": [
      "coefficient of determination with test data: 0.998\n"
     ]
    }
   ],
   "source": [
    "# Calculate R2 to see the accuracy of the model with test data.\n",
    "r_sq_test4 = model4.score(X_test,y_test)\n",
    "print('coefficient of determination with test data: %.3f' %r_sq_test4)"
   ]
  },
  {
   "cell_type": "code",
   "execution_count": 55,
   "metadata": {},
   "outputs": [
    {
     "name": "stdout",
     "output_type": "stream",
     "text": [
      "Neural Network Regression:\n",
      " Accuracy: 0.9987745392955016 +/- 0.00011903702763198072 \n",
      "\n"
     ]
    }
   ],
   "source": [
    "# Applying k-Fold Cross Validation (CV) with train data\n",
    "accuracies4a = cross_val_score(estimator = model4, X=X_train, y=y_train , cv = 10)\n",
    "print(\"Neural Network Regression:\\n Accuracy:\", accuracies4a.mean(), \"+/-\", accuracies4a.std(),\"\\n\")"
   ]
  },
  {
   "cell_type": "code",
   "execution_count": 56,
   "metadata": {},
   "outputs": [
    {
     "name": "stdout",
     "output_type": "stream",
     "text": [
      "Neural Network Regression:\n",
      " Accuracy: 0.9978135426959385 +/- 0.00028245018115084715 \n",
      "\n"
     ]
    }
   ],
   "source": [
    "# Applying k-Fold Cross Validation (CV) with test data\n",
    "accuracies4b = cross_val_score(estimator = model4, X=X_test, y=y_test , cv = 10)\n",
    "print(\"Neural Network Regression:\\n Accuracy:\", accuracies4b.mean(), \"+/-\", accuracies4b.std(),\"\\n\")"
   ]
  },
  {
   "cell_type": "code",
   "execution_count": 57,
   "metadata": {},
   "outputs": [
    {
     "data": {
      "text/plain": [
       "(12919,)"
      ]
     },
     "execution_count": 57,
     "metadata": {},
     "output_type": "execute_result"
    }
   ],
   "source": [
    "# Let's calculate the prediction of the model\n",
    "y_pred4 = model4.predict(X_train)\n",
    "y_pred4.shape"
   ]
  },
  {
   "cell_type": "markdown",
   "metadata": {},
   "source": [
    "### Observation 4.\n",
    "* Here also the R^2 and the accuracy of the Cross Validation are very high (~0.99).\n",
    "* The explanation is the same than in the previous model, the variable DepDelay is strongly dependent with the target.\n",
    "* On the last exercise, we will take out this variable and rerun the models."
   ]
  },
  {
   "cell_type": "markdown",
   "metadata": {},
   "source": [
    "## Exercise 2 - Compare them on the basis of MSE and R2 .\n",
    " "
   ]
  },
  {
   "cell_type": "markdown",
   "metadata": {},
   "source": [
    "R^2 has been calculated before, we copy here the results:\n"
   ]
  },
  {
   "cell_type": "code",
   "execution_count": 58,
   "metadata": {},
   "outputs": [
    {
     "name": "stdout",
     "output_type": "stream",
     "text": [
      "--------------Linear Regression Model------------\n",
      "R^2 - coefficient of determination with train data: 0.895\n",
      "R^2 - coefficient of determination with test data: 0.902\n",
      "-------Multiple Linear Regression Model------------\n",
      "R^2 - coefficient of determination with train data: 1.000\n",
      "R^2 - coefficient of determination with test data: 1.000\n",
      "--------------Random Forest Regression Model------------\n",
      "R^2 - coefficient of determination with train data: 0.992\n",
      "R^2 - coefficient of determination with test data: 0.965\n",
      "-------Neural Network Regression Model------------\n",
      "R^2 - coefficient of determination with train data: 0.999\n",
      "R^2 - coefficient of determination with test data: 0.998\n"
     ]
    }
   ],
   "source": [
    "print(\"--------------Linear Regression Model------------\")\n",
    "print('R^2 - coefficient of determination with train data: %.3f' %r_sq_train)\n",
    "print('R^2 - coefficient of determination with test data: %.3f' %r_sq_test)\n",
    "print(\"-------Multiple Linear Regression Model------------\")\n",
    "print('R^2 - coefficient of determination with train data: %.3f' %r_sq_train2)\n",
    "print('R^2 - coefficient of determination with test data: %.3f' %r_sq_test2)\n",
    "print(\"--------------Random Forest Regression Model------------\")\n",
    "print('R^2 - coefficient of determination with train data: %.3f' %r_sq_train3)\n",
    "print('R^2 - coefficient of determination with test data: %.3f' %r_sq_test3)\n",
    "print(\"-------Neural Network Regression Model------------\")\n",
    "print('R^2 - coefficient of determination with train data: %.3f' %r_sq_train4)\n",
    "print('R^2 - coefficient of determination with test data: %.3f' %r_sq_test4)"
   ]
  },
  {
   "cell_type": "markdown",
   "metadata": {},
   "source": [
    "### Observation 5.\n",
    "As seen, all R^2 are very high, maximum is Multiple Linear Regression Model, a perfect fit, all the target is explained and predicted with the model.\n"
   ]
  },
  {
   "cell_type": "markdown",
   "metadata": {},
   "source": [
    "MSE has not been calculated, we calculate it now and print here the results:"
   ]
  },
  {
   "cell_type": "code",
   "execution_count": 59,
   "metadata": {},
   "outputs": [
    {
     "name": "stdout",
     "output_type": "stream",
     "text": [
      "--------------Linear Regression Model------------\n",
      "MSE - Mean Square Error with train data: 0.105\n",
      "-------Multiple Linear Regression Model------------\n",
      "MSE - Mean Square Error with train data: 0.000\n",
      "--------Random Forest Regression Model------------\n",
      "MSE - Mean Square Error with train data: 0.008\n",
      "-------Neural Network Regression Model------------\n",
      "MSE - Mean Square Error with train data: 0.001\n"
     ]
    }
   ],
   "source": [
    "from sklearn.metrics import mean_squared_error\n",
    "print(\"--------------Linear Regression Model------------\")\n",
    "print('MSE - Mean Square Error with train data: %.3f' %mean_squared_error(y_true=y_train,y_pred=y_pred1))\n",
    "print(\"-------Multiple Linear Regression Model------------\")\n",
    "print('MSE - Mean Square Error with train data: %.3f' %mean_squared_error(y_train,y_pred2))\n",
    "print(\"--------Random Forest Regression Model------------\")\n",
    "print('MSE - Mean Square Error with train data: %.3f' %mean_squared_error(y_train,y_pred3))\n",
    "print(\"-------Neural Network Regression Model------------\")\n",
    "print('MSE - Mean Square Error with train data: %.3f' %mean_squared_error(y_train,y_pred4))\n"
   ]
  },
  {
   "cell_type": "markdown",
   "metadata": {},
   "source": [
    "### Observation 6.\n",
    "As expected from R^2 results, MSE is very low. Maximum is again Multiple Linear Regression Model, a perfect fit, MSE = 0. Let's see when we take off DepDelay."
   ]
  },
  {
   "cell_type": "markdown",
   "metadata": {},
   "source": [
    "## Exercise 3 - Train them using the different parameters they allow.\n"
   ]
  },
  {
   "cell_type": "markdown",
   "metadata": {},
   "source": [
    "### 3.1.- Multiple Linear Regression Model\n"
   ]
  },
  {
   "cell_type": "code",
   "execution_count": 60,
   "metadata": {},
   "outputs": [
    {
     "name": "stdout",
     "output_type": "stream",
     "text": [
      "coefficient of determination with train data: 0.895\n"
     ]
    }
   ],
   "source": [
    "# This is our original model:\n",
    "# Fit the model ( calculate b0...bn for the multiple lineal model y = b0 + b1x1 +... + bnxn)\n",
    "model2 = LinearRegression().fit(X_train,y_train)\n",
    "# Calculate R2 to see the accuracy of the model with train data.\n",
    "r_sq_train2 = model2.score(X_train,y_train)\n",
    "print('coefficient of determination with train data: %.3f' %r_sq_train)\n"
   ]
  },
  {
   "cell_type": "code",
   "execution_count": 61,
   "metadata": {},
   "outputs": [
    {
     "name": "stdout",
     "output_type": "stream",
     "text": [
      "coefficient of determination with train data: 0.895\n"
     ]
    }
   ],
   "source": [
    "# Let's now use different parameters: \n",
    "model2 = LinearRegression(fit_intercept=False).fit(X_train,y_train)\n",
    "# Calculate R2 to see the accuracy of the model with train data.\n",
    "r_sq_train2 = model2.score(X_train,y_train)\n",
    "print('coefficient of determination with train data: %.3f' %r_sq_train)\n",
    "\n",
    "# We don't change normalize= because is going to be deprecated and we have normalized before.\n",
    "# copy_X will only change if we want to change X or not. By default is copied (not changed), if we use False, X will be overwritten."
   ]
  },
  {
   "cell_type": "code",
   "execution_count": 62,
   "metadata": {},
   "outputs": [
    {
     "name": "stdout",
     "output_type": "stream",
     "text": [
      "coefficient of determination with train data: 0.895\n"
     ]
    }
   ],
   "source": [
    "# n_jobs: number of jobs to use for the computation. By default is None, interpreted usually as 1 CPU.\n",
    "# if we use -1 all CPUs will be used in Parallel. Only effective with large datasets. Right now our \n",
    "# computational time for this model is 0.1, no improvement expected.\n",
    "model2 = LinearRegression(n_jobs=-1).fit(X_train,y_train)\n",
    "# Calculate R2 to see the accuracy of the model with train data.\n",
    "r_sq_train2 = model2.score(X_train,y_train)\n",
    "print('coefficient of determination with train data: %.3f' %r_sq_train)"
   ]
  },
  {
   "cell_type": "markdown",
   "metadata": {},
   "source": [
    "#### Observation 7.  \n",
    "* No improvement / change with the parameters used, speed is the same (0.1s) and R^2 is the same (0.895)"
   ]
  },
  {
   "cell_type": "markdown",
   "metadata": {},
   "source": [
    "### 3.2.- Random Forest Regression Model\n"
   ]
  },
  {
   "cell_type": "code",
   "execution_count": 63,
   "metadata": {},
   "outputs": [
    {
     "name": "stdout",
     "output_type": "stream",
     "text": [
      "coefficient of determination with train data: 1.000\n"
     ]
    }
   ],
   "source": [
    "# Instantiate model with 100 decision trees\n",
    "model3 = RandomForestRegressor(n_estimators = 100, random_state = 42)\n",
    "# Train the model on training data\n",
    "model3.fit(X_train, y_train)\n",
    "# Calculate R2 to see the accuracy of the model with train data.\n",
    "r_sq_train3 = model3.score(X_train,y_train)\n",
    "print('coefficient of determination with train data: %.3f' %r_sq_train2)"
   ]
  },
  {
   "cell_type": "code",
   "execution_count": 64,
   "metadata": {},
   "outputs": [
    {
     "name": "stdout",
     "output_type": "stream",
     "text": [
      "coefficient of determination with train data: 1.000\n"
     ]
    }
   ],
   "source": [
    "# Let's change parameters, but with R2 of 1 and speed 13.4s is going to be difficult to see differences.\n",
    "\n",
    "# The most important parameter is n_estimators, how many \"trees\" are in the forest. \n",
    "# By default is 100, let's change it to 10\n",
    "model3 = RandomForestRegressor(n_estimators = 10, random_state = 42)\n",
    "# Train the model on training data\n",
    "model3.fit(X_train, y_train)\n",
    "# Calculate R2 to see the accuracy of the model with train data.\n",
    "r_sq_train3 = model3.score(X_train,y_train)\n",
    "print('coefficient of determination with train data: %.3f' %r_sq_train2)\n"
   ]
  },
  {
   "cell_type": "code",
   "execution_count": 65,
   "metadata": {},
   "outputs": [
    {
     "name": "stdout",
     "output_type": "stream",
     "text": [
      "coefficient of determination with train data: 1.000\n"
     ]
    }
   ],
   "source": [
    "# The speed has improved to 1.5s and R2 is still 1. \n",
    "# If we change it to 1000 trees, R2 is the same, but time is 15h.\n",
    "\n",
    "# criterion parameter also changes the function to measure the quality of a split.\n",
    "# By default is squared_error, let's change it to absolute_error (poisson is not possible because there are negative values on y array)\n",
    "model3 = RandomForestRegressor(n_estimators = 10, criterion='absolute_error', random_state = 42)\n",
    "# Train the model on training data\n",
    "model3.fit(X_train, y_train)\n",
    "# Calculate R2 to see the accuracy of the model with train data.\n",
    "r_sq_train3 = model3.score(X_train,y_train)\n",
    "print('coefficient of determination with train data: %.3f' %r_sq_train2)\n",
    "\n"
   ]
  },
  {
   "cell_type": "code",
   "execution_count": 66,
   "metadata": {},
   "outputs": [
    {
     "name": "stdout",
     "output_type": "stream",
     "text": [
      "coefficient of determination with train data: 1.000\n"
     ]
    }
   ],
   "source": [
    "# There are many more parameters to change, let's just make a last change, in order to try to improve the speed, lets compute again \n",
    "# the previous model, but with using all CPUs in parallel.\n",
    "model3 = RandomForestRegressor(n_estimators = 10, criterion='absolute_error', n_jobs= -1, random_state = 42)\n",
    "# Train the model on training data\n",
    "model3.fit(X_train, y_train)\n",
    "# Calculate R2 to see the accuracy of the model with train data.\n",
    "r_sq_train3 = model3.score(X_train,y_train)\n",
    "print('coefficient of determination with train data: %.3f' %r_sq_train2)"
   ]
  },
  {
   "cell_type": "markdown",
   "metadata": {},
   "source": [
    "#### Observation 8.  \n",
    "* The speed has effectively improved with n_jobs = -1, from 46s to 13s. But CPU Performance goes to 100%!\n",
    "* With R2 always 1, we are not seen difference in accuracy changing the parameters. Maybe when we take off the dependent variable these results will change.\n",
    "* See comments in code, we have changed the numbers of trees, affecting to the calculation speed of the model. \n",
    "* Also criterion was changed, but with no different results. (R2 = 1)"
   ]
  },
  {
   "cell_type": "markdown",
   "metadata": {},
   "source": [
    "\n",
    "### 3.3.- Neural Network Regression Model"
   ]
  },
  {
   "cell_type": "code",
   "execution_count": 67,
   "metadata": {},
   "outputs": [
    {
     "name": "stdout",
     "output_type": "stream",
     "text": [
      "coefficient of determination with train data: 0.999\n"
     ]
    }
   ],
   "source": [
    "# Create model\n",
    "model4 = MLPRegressor(activation='relu',solver='adam',random_state=1, max_iter=500)\n",
    "model4.fit(X_train,y_train)\n",
    "# Calculate R2 to see the accuracy of the model with train data.\n",
    "r_sq_train4 = model4.score(X_train,y_train)\n",
    "print('coefficient of determination with train data: %.3f' %r_sq_train4)"
   ]
  },
  {
   "cell_type": "code",
   "execution_count": 73,
   "metadata": {},
   "outputs": [
    {
     "name": "stdout",
     "output_type": "stream",
     "text": [
      "coefficient of determination with train data: 1.000\n"
     ]
    }
   ],
   "source": [
    "# Let's increase to 5 times default number of hidden layers\n",
    "model4 = MLPRegressor(hidden_layer_sizes=(500,), activation='relu',solver='adam',random_state=1, max_iter=500)\n",
    "model4.fit(X_train,y_train)\n",
    "# Calculate R2 to see the accuracy of the model with train data.\n",
    "r_sq_train4 = model4.score(X_train,y_train)\n",
    "print('coefficient of determination with train data: %.3f' %r_sq_train4)"
   ]
  },
  {
   "cell_type": "code",
   "execution_count": 74,
   "metadata": {},
   "outputs": [
    {
     "name": "stdout",
     "output_type": "stream",
     "text": [
      "coefficient of determination with train data: 0.997\n"
     ]
    }
   ],
   "source": [
    "# Let's change the activation to logistic sigmoid function, returns f(x) = 1 / (1 + exp(-x)). (old school)\n",
    "model4 = MLPRegressor(activation='logistic',solver='adam',random_state=1, max_iter=500)\n",
    "model4.fit(X_train,y_train)\n",
    "# Calculate R2 to see the accuracy of the model with train data.\n",
    "r_sq_train4 = model4.score(X_train,y_train)\n",
    "print('coefficient of determination with train data: %.3f' %r_sq_train4)"
   ]
  },
  {
   "cell_type": "code",
   "execution_count": 75,
   "metadata": {},
   "outputs": [
    {
     "name": "stdout",
     "output_type": "stream",
     "text": [
      "coefficient of determination with train data: 1.000\n"
     ]
    }
   ],
   "source": [
    "# Let's increase to change the solver to lbfgs (optimizer in the family of quasi-Newton methods)\n",
    "model4 = MLPRegressor(activation='relu',solver='lbfgs',random_state=1, max_iter=500)\n",
    "model4.fit(X_train,y_train)\n",
    "# Calculate R2 to see the accuracy of the model with train data.\n",
    "r_sq_train4 = model4.score(X_train,y_train)\n",
    "print('coefficient of determination with train data: %.3f' %r_sq_train4)\n",
    "\n",
    "        # Note: The default solver 'adam' works pretty well on relatively\n",
    "        # large datasets (with thousands of training samples or more) in terms of\n",
    "        # both training time and validation score.\n",
    "        # For small datasets, however, 'lbfgs' can converge faster and perform\n",
    "        # better."
   ]
  },
  {
   "cell_type": "markdown",
   "metadata": {},
   "source": [
    "#### Observation 9.\n",
    "* Same as with Random Forest, R2 ise always 1, so we are not seen difference in accuracy changing the parameters.  \n",
    "Probably when we take off the dependent variable these results will change.\n",
    "* See comments in code, we have changed the number of hidden layers, affecting to the calculation speed of the model. \n",
    "* Also activation and solver was changed, but with no different results. (R2 = 1)"
   ]
  },
  {
   "cell_type": "markdown",
   "metadata": {},
   "source": [
    "\n",
    "## Exercise 4 - Compare their performance using the test/train approach or using all data (internal validation).\n"
   ]
  },
  {
   "cell_type": "markdown",
   "metadata": {},
   "source": [
    "# Level 2\n",
    "\n",
    "## Exercise 5 Perform some variable engineering process to improve your prediction.\n"
   ]
  },
  {
   "cell_type": "markdown",
   "metadata": {},
   "source": [
    "\n",
    "# Level 3 \n",
    "\n",
    "## Exercise 6 - Do not use the DepDelay variable when making predictions."
   ]
  }
 ],
 "metadata": {
  "interpreter": {
   "hash": "494e690407c5c7c9b2fbc0a1227ada2e3d821eefed538763ba3356ad470e06f1"
  },
  "kernelspec": {
   "display_name": "Python 3.9.7 ('base')",
   "language": "python",
   "name": "python3"
  },
  "language_info": {
   "codemirror_mode": {
    "name": "ipython",
    "version": 3
   },
   "file_extension": ".py",
   "mimetype": "text/x-python",
   "name": "python",
   "nbconvert_exporter": "python",
   "pygments_lexer": "ipython3",
   "version": "3.9.7"
  },
  "orig_nbformat": 4
 },
 "nbformat": 4,
 "nbformat_minor": 2
}
